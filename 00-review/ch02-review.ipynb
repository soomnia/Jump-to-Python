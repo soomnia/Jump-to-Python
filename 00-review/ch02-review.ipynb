{
 "cells": [
  {
   "cell_type": "markdown",
   "metadata": {},
   "source": [
    "# 02장 되새김 문제"
   ]
  },
  {
   "cell_type": "markdown",
   "metadata": {},
   "source": [
    "## Q1. 평균 점수 구하기\n",
    "홍길동 씨의 과목별 점수는 다음과 같다. 홍길동 씨의 평균 점수를 구해보자.\n",
    "| 과목 | 점수 |\n",
    "|-----------|-----------|\n",
    "| 국어 | 80 |\n",
    "| 영어 | 75 |\n",
    "| 수학 | 55 |\n"
   ]
  },
  {
   "cell_type": "code",
   "execution_count": null,
   "metadata": {},
   "outputs": [],
   "source": [
    "kor = 80\n",
    "eng = 75\n",
    "math = 55\n",
    "\n",
    "avg = (kor + eng + math) / 3\n",
    "print(avg)"
   ]
  },
  {
   "cell_type": "markdown",
   "metadata": {},
   "source": [
    "## Q2. 홀수, 짝수 판별하기\n",
    "자연수 13이 홀수인지, 짝수인지 판별할 수 있는 방법에 대해 말해 보자."
   ]
  },
  {
   "cell_type": "code",
   "execution_count": null,
   "metadata": {},
   "outputs": [],
   "source": [
    "# 홀수와 짝수는 2로 나눴을 때의 나머지가 1인지 0인지에 따라 판별할 수 있다.\n",
    "def is_odd(num):\n",
    "    if num % 2 == 0:\n",
    "        print(\"짝수\")\n",
    "    else:\n",
    "        print(\"홀수\")\n",
    "\n",
    "num = int(input(\"13 입력하실거죠?\"))\n",
    "is_odd(num)"
   ]
  },
  {
   "cell_type": "markdown",
   "metadata": {},
   "source": [
    "## Q3. 주민등록번호 나누기\n",
    "홍길동 씨의 주민등록번호는 881120-1068234 이다. 홍길동 씨의 주민등록번호를 연월일(YYYYMMDD) 부분과 그 뒤의 숫자 부분으로 나누어 출력해 보자.\n",
    "> 문자열 슬라이싱 기법을 사용해보자."
   ]
  },
  {
   "cell_type": "code",
   "execution_count": null,
   "metadata": {},
   "outputs": [],
   "source": [
    "pin = '881120-1068234'\n",
    "\n",
    "yyyymmdd = pin[:6]\n",
    "num = pin[7:]\n",
    "print(yyyymmdd, num)\n",
    "\n",
    "def prefix_yy(num, yyyymmdd):\n",
    "    id = int(num[0])\n",
    "    if (id == 1) | (id == 2):\n",
    "        yyyymmdd = \"19\" + yyyymmdd\n",
    "    elif (id == 3) | (id == 4):\n",
    "        yyyymmdd = \"20\" + yyyymmdd\n",
    "    else:\n",
    "        print(\"?\")\n",
    "    return yyyymmdd\n",
    "\n",
    "\n",
    "print(f\"연월일: {prefix_yy(num, yyyymmdd)}\")\n",
    "print(f\"숫자: {num}\")"
   ]
  },
  {
   "cell_type": "markdown",
   "metadata": {},
   "source": [
    "## Q4. 주민등록번호 인덱싱\n",
    "주민등록번호 뒷자리의 맨 첫 번째 숫자는 성별을 나타낸다. 주민등록번호에서 성별을 나타내는 숫자를 출력해 보자.\n",
    "> 문자열 인덱싱을 사용해 보자."
   ]
  },
  {
   "cell_type": "code",
   "execution_count": null,
   "metadata": {},
   "outputs": [],
   "source": [
    "pin = '881120-1068234'\n",
    "\n",
    "print(pin[7])"
   ]
  },
  {
   "cell_type": "markdown",
   "metadata": {},
   "source": [
    "## Q5. 문자열 바꾸기\n",
    "다음과 같은 문자열 a:b:c:d 가 있다. 문자열의 replace 함수를 사용하여 a#b#c#d 로 바꿔 출력해 보자."
   ]
  },
  {
   "cell_type": "code",
   "execution_count": null,
   "metadata": {},
   "outputs": [],
   "source": [
    "a = \"a:b:c:d\"\n",
    "b = a.replace(\":\", \"#\")\n",
    "print(b)"
   ]
  },
  {
   "cell_type": "markdown",
   "metadata": {},
   "source": [
    "## Q6. 리스트 역순 정렬하기\n",
    "[1,3,5,4,2] 리스트를 [5,4,3,2,1]로 만들어 보자.\n",
    "> 리스트의 내장 함수를 사용해 보자."
   ]
  },
  {
   "cell_type": "code",
   "execution_count": null,
   "metadata": {},
   "outputs": [],
   "source": [
    "a = [1, 3, 5, 4, 2]\n",
    "a.sort()\n",
    "a.reverse()\n",
    "print(a)"
   ]
  },
  {
   "cell_type": "markdown",
   "metadata": {},
   "source": [
    "## Q7. 리스트를 문자열로 만들기\n",
    "### ❎ join 함수 사용법 까먹지 말자!!\n",
    "['Life', 'is', 'too', 'short'] 리스트를 Life is too short 문자열로 만들어 출력해 보자.\n",
    "> 문자열의 join 함수를 사용하면 리스트를 문자열로 쉽게 만들 수 있다."
   ]
  },
  {
   "cell_type": "code",
   "execution_count": null,
   "metadata": {},
   "outputs": [],
   "source": [
    "a = ['Life', 'is', 'too', 'short']\n",
    "result = (' ').join(a)\n",
    "print(result)"
   ]
  },
  {
   "cell_type": "markdown",
   "metadata": {},
   "source": [
    "## Q8. 튜플 더하기\n",
    "(1,2,3) 튜플에 값 4를 추가하여 (1,2,3,4) 를 만든 후 출력해 보자.\n",
    "> \\+ 연산을 사용해 보자."
   ]
  },
  {
   "cell_type": "code",
   "execution_count": null,
   "metadata": {},
   "outputs": [],
   "source": [
    "a = (1,2,3)\n",
    "print(\"변경 전 주소 값:\", id(a))\n",
    "\n",
    "a = a + (4,)\n",
    "print(\"변경 후 주소 값:\", id(a))\n",
    "print(a)\n",
    "\n",
    "## 이 때 a의 값이 변경되는 것이 아니다\n",
    "## ⭐️⭐️⭐️ 튜플은 그 값을 변경할 수 없다\n",
    "## 새로운 튜플이 생성된 뒤, 그 값이 a 변수에 대입되는 것 << 주소 값을 통해 확인 할 수 있다\n",
    "\n"
   ]
  },
  {
   "cell_type": "markdown",
   "metadata": {},
   "source": [
    "## Q9. 딕셔너리의 키\n",
    "다음과 같은 딕셔너리 a가 있다.\n",
    "```python\n",
    "a = dict()\n",
    "a\n",
    "```\n",
    "\n",
    "다음 중 오류가 발생하는 경우를 고르고, 그 이유를 설명해 보자.\n",
    "\n",
    "```python\n",
    "a['name'] = 'python'\n",
    "a[('a', )] = 'python'\n",
    "a[[1]] = 'python'\n",
    "a[250] = 'python'\n",
    "```"
   ]
  },
  {
   "cell_type": "code",
   "execution_count": null,
   "metadata": {},
   "outputs": [],
   "source": [
    "a = dict()\n",
    "print(a)\n",
    "\n",
    "a['name'] = 'python'\n",
    "a[('a', )] = 'python'\n",
    "## ⭐️⭐️⭐️ 키의 특성:\n",
    "a[[1]] = 'python'\n",
    "a[250] = 'python'"
   ]
  },
  {
   "cell_type": "markdown",
   "metadata": {},
   "source": [
    "```bash\n",
    "---------------------------------------------------------------------------\n",
    "TypeError                                 Traceback (most recent call last)\n",
    "Cell In[24], line 6\n",
    "      4 a['name'] = 'python'\n",
    "      5 a[('a', )] = 'python'\n",
    "----> 6 a[[1]] = 'python'\n",
    "      7 a[250] = 'python'\n",
    "\n",
    "TypeError: unhashable type: 'list'\n",
    "\n",
    "```\n",
    "\n",
    "딕셔너리의 키로 변하는 값을 사용할 수 없기 때문에 오류가 난다.\n",
    "리스트 [1]은 값이 변할 수 있으므로 나는 오류이다."
   ]
  },
  {
   "cell_type": "markdown",
   "metadata": {},
   "source": [
    "## Q10. 딕셔너리 값 추출하기\n",
    "딕셔너리 a 에서 'B'에 해당하는 값을 추출해 보자.\n",
    "a = {'A' : 30, 'B' : 80, 'C' : 70}\n",
    "> 딕셔너리의 pop 함수를 사용해 보자."
   ]
  },
  {
   "cell_type": "code",
   "execution_count": 25,
   "metadata": {},
   "outputs": [
    {
     "name": "stdout",
     "output_type": "stream",
     "text": [
      "{'A': 30, 'C': 70}\n",
      "80\n"
     ]
    }
   ],
   "source": [
    "a = {'A' : 30, 'B' : 80, 'C' : 70}\n",
    "result = a.pop('B')\n",
    "print(a)            # 'B'키에 해당되는 값은 제거됨\n",
    "print(result)       # 'B'키의 값이 반환됨"
   ]
  },
  {
   "cell_type": "markdown",
   "metadata": {},
   "source": [
    "## Q11. 리스트에서 중복 제거하기\n",
    "> 집합 차료형의 요솟값이 중복될 수 없다는 특징을 사용해 보자."
   ]
  },
  {
   "cell_type": "code",
   "execution_count": null,
   "metadata": {},
   "outputs": [],
   "source": [
    "a = [1, 1, 1, 2, 2, 3, 3, 4, 4, 5]\n",
    "\n",
    "aSet = set(a)               # a 리스트를 집합 자료형으로 변환\n",
    "\n",
    "b = list(aSet)              # 집합 자료형을 리스트 자료형으로 다시 변환\n",
    "\n",
    "print(b)"
   ]
  },
  {
   "cell_type": "markdown",
   "metadata": {},
   "source": [
    "## Q12. 파이썬 변수\n",
    "파이썬은 다음처럼 동일한 값에 여러 개의 변수를 선언할 수 있다.\n",
    "다음과 같이 a, b 변수를 선언한 후 a의 두 번째 요솟값을 변경하면 b 값은 어떻게 될까?\n",
    "그리고 이런 결과가 나타나는 이유를 설명해 보자.\n",
    "\n",
    "```python\n",
    "a = b = [1,2,3]\n",
    "a[1] = 4\n",
    "print(b)\n",
    "```"
   ]
  },
  {
   "cell_type": "code",
   "execution_count": null,
   "metadata": {},
   "outputs": [],
   "source": [
    "a = b = [1,2,3]\n",
    "\n",
    "a[1] = 4\n",
    "\n",
    "print(b)\n",
    "\n",
    "## b 또한 b[1] = 4 인 것을 확인할 수 있다.\n",
    "## a, b 모두 동일한 리스트 객체를 가리키고 있기 때문이다."
   ]
  }
 ],
 "metadata": {
  "kernelspec": {
   "display_name": "base",
   "language": "python",
   "name": "python3"
  },
  "language_info": {
   "codemirror_mode": {
    "name": "ipython",
    "version": 3
   },
   "file_extension": ".py",
   "mimetype": "text/x-python",
   "name": "python",
   "nbconvert_exporter": "python",
   "pygments_lexer": "ipython3",
   "version": "3.11.7"
  }
 },
 "nbformat": 4,
 "nbformat_minor": 2
}
